{
 "cells": [
  {
   "cell_type": "code",
   "execution_count": null,
   "id": "7aa8e05f-bd60-461d-8675-6bbc36501df7",
   "metadata": {
    "tags": []
   },
   "outputs": [
    {
     "name": "stdout",
     "output_type": "stream",
     "text": [
      "\u001b[93m[mitsuba] Warning: Couldn't import the ipywidgets package. Installing this package is required for the system to properly log messages and print in Jupyter notebooks!\n"
     ]
    }
   ],
   "source": [
    "#import pytest\n",
    "import drjit as dr\n",
    "import mitsuba as mi\n",
    "mi.set_variant(\"cuda_ad_spectral\")\n",
    "#mi.set_variant(\"llvm_ad_spectral\")\n",
    "#mi.set_variant(\"scalar_spectral\")"
   ]
  },
  {
   "cell_type": "code",
   "execution_count": null,
   "id": "6b09eb98-17ec-47d0-9d85-437b645a0012",
   "metadata": {
    "tags": []
   },
   "outputs": [],
   "source": [
    "import numpy as np\n",
    "import math\n",
    "import matplotlib.pyplot as plt\n",
    "from osgeo import gdal\n",
    "import imageio\n",
    "def saveToHdr_no_transform(npArray, dstFilePath, wlist, output_format):\n",
    "        dshape = npArray.shape\n",
    "        if len(dshape) == 3:\n",
    "            bandnum = dshape[2]\n",
    "        else:\n",
    "            bandnum = 1\n",
    "        if output_format == \"ENVI\":\n",
    "            format = \"ENVI\"\n",
    "        else:\n",
    "            format = \"GTiff\"\n",
    "            dstFilePath += \".tif\"\n",
    "        driver = gdal.GetDriverByName(format)\n",
    "        dst_ds = driver.Create(dstFilePath, dshape[1], dshape[0], bandnum, gdal.GDT_Float32)\n",
    "        #     npArray = linear_stretch_3d(npArray)\n",
    "        if bandnum > 1:\n",
    "            for i in range(1, bandnum + 1):\n",
    "                dst_ds.GetRasterBand(i).WriteArray(npArray[:, :, i - 1])\n",
    "        else:\n",
    "            dst_ds.GetRasterBand(1).WriteArray(npArray)\n",
    "        dst_ds = None\n",
    "\n",
    "        if output_format == \"ENVI\" and len(wlist) >0:\n",
    "            # wirte wavelength\n",
    "            f = open(dstFilePath+\".hdr\",'r')\n",
    "            text = f.read()\n",
    "            f.close()\n",
    "            wstr = \"\\nwavelength = {\"\n",
    "            for i in range(0,len(wlist)):\n",
    "                wstr += str(wlist[i]) + \",\"\n",
    "            wstr = wstr[0:len(wstr)-1] + \"}\"\n",
    "            f = open(dstFilePath+\".hdr\",'w')\n",
    "            text = text + wstr\n",
    "            f.write(text)\n",
    "            f.close()"
   ]
  },
  {
   "cell_type": "code",
   "execution_count": 5,
   "id": "22a2b9c6-864f-4c8d-800a-d4aab71eec51",
   "metadata": {},
   "outputs": [],
   "source": [
    "scene = mi.load_file('./Parameters/inverse_allband.xml')\n",
    "image_ref = mi.render(scene)\n",
    "data = image_ref[:,:,:]\n",
    "np.save('./temp/temp1.npy',data)\n",
    "data = np.load(\"./temp/temp1.npy\")\n",
    "bandlist = [490,560,665,865]\n",
    "saveToHdr_no_transform(data, 'image-bandall', bandlist, 'TIFF')"
   ]
  }
 ],
 "metadata": {
  "kernelspec": {
   "display_name": "Python 3 (ipykernel)",
   "language": "python",
   "name": "python3"
  },
  "language_info": {
   "codemirror_mode": {
    "name": "ipython",
    "version": 3
   },
   "file_extension": ".py",
   "mimetype": "text/x-python",
   "name": "python",
   "nbconvert_exporter": "python",
   "pygments_lexer": "ipython3",
   "version": "3.10.12"
  }
 },
 "nbformat": 4,
 "nbformat_minor": 5
}
